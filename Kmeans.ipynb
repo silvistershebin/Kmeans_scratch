{
 "cells": [
  {
   "cell_type": "code",
   "execution_count": 264,
   "metadata": {},
   "outputs": [],
   "source": [
    "import numpy as np \n",
    "import pandas as pd\n",
    "import matplotlib.pyplot as plt\n",
    "from collections import defaultdict\n"
   ]
  },
  {
   "cell_type": "code",
   "execution_count": 265,
   "metadata": {},
   "outputs": [],
   "source": [
    "dataset = [(12,39),(20,36),(28,30),(18,52),(29,54),(33,46),(24,55),(45,59),(45,63),(52,70),(51,66),(52,63),(55,58),(53,23),(55,14),(61,8),(64,19),(69,7),(72,24)]"
   ]
  },
  {
   "cell_type": "code",
   "execution_count": 266,
   "metadata": {},
   "outputs": [],
   "source": [
    "def first_iter(dataset, centroid_count):\n",
    "    centroids = []\n",
    "    for i in range(0, centroid_count):\n",
    "        centroids.append(dataset[i])\n",
    "    \n",
    "    distance_vector = []\n",
    "\n",
    "    for data in dataset:\n",
    "        temp = []\n",
    "        for centroid in centroids:\n",
    "            temp.append(np.sqrt(np.square(centroid[0] - data[0]) + np.square(centroid[1] - data[1])))\n",
    "        distance_vector.append(temp)\n",
    "       \n",
    "    classes = []\n",
    "    for x in distance_vector:\n",
    "        min = np.argmin(x)\n",
    "        classes.append(min)\n",
    "    c = defaultdict(list)\n",
    "    for i in range(0, len(classes)):\n",
    "        c[classes[i]].append(list(dataset[i]))\n",
    "    centroids = []\n",
    "    for part in c:\n",
    "        mx = 0\n",
    "        my = 0\n",
    "        for tup in c[part]:\n",
    "            mx += tup[0]\n",
    "            my += tup[1]\n",
    "        centroids.append((mx/len(c[part]),my/len(c[part])))\n",
    "    return classes, centroids\n",
    "         \n"
   ]
  },
  {
   "cell_type": "code",
   "execution_count": 267,
   "metadata": {},
   "outputs": [
    {
     "data": {
      "text/plain": [
       "'for centroid in centroids:\\n        temp = []\\n        for data in dataset:\\n            temp.append(np.sqrt(np.square(centroid[0] - data[0]) + np.square(centroid[1]) - data[1]))\\n        distance_vector.append(temp) '"
      ]
     },
     "execution_count": 267,
     "metadata": {},
     "output_type": "execute_result"
    }
   ],
   "source": [
    "'''for centroid in centroids:\n",
    "        temp = []\n",
    "        for data in dataset:\n",
    "            temp.append(np.sqrt(np.square(centroid[0] - data[0]) + np.square(centroid[1]) - data[1]))\n",
    "        distance_vector.append(temp) '''"
   ]
  },
  {
   "cell_type": "code",
   "execution_count": 268,
   "metadata": {},
   "outputs": [
    {
     "data": {
      "text/plain": [
       "[(15.0, 45.5), (30.2, 50.8), (54.75, 36.75)]"
      ]
     },
     "execution_count": 268,
     "metadata": {},
     "output_type": "execute_result"
    }
   ],
   "source": [
    "first_class, centroid = first_iter(dataset, 3)\n",
    "centroid\n"
   ]
  },
  {
   "cell_type": "code",
   "execution_count": 269,
   "metadata": {},
   "outputs": [],
   "source": [
    "\n",
    "def next_iter(prev_class, centroids, centroid_count):\n",
    "    classes = []\n",
    "    c = defaultdict(list)\n",
    "    while True:\n",
    "        distance_vector = []\n",
    "\n",
    "        for data in dataset:\n",
    "            temp = []\n",
    "            for centroid in centroids:\n",
    "                temp.append(np.sqrt(np.square(centroid[0] - data[0]) + np.square(centroid[1] - data[1])))\n",
    "            distance_vector.append(temp)\n",
    "\n",
    "        classes = []\n",
    "        for x in distance_vector:\n",
    "            min = np.argmin(x)\n",
    "            classes.append(min)\n",
    "            \n",
    "        if set(prev_class) == set(classes):\n",
    "            break\n",
    "        else:\n",
    "            prev_class = classes\n",
    "        c = defaultdict(list)\n",
    "        for i in range(0, len(classes)):\n",
    "            c[classes[i]].append(list(dataset[i]))\n",
    "        centroids = []\n",
    "        for part in dict(c):\n",
    "            mx = 0\n",
    "            my = 0\n",
    "            for tup in c[part]:\n",
    "                mx += tup[0]\n",
    "                my += tup[1]\n",
    "            centroids.append((mx/len(c[part]),my/len(c[part])))\n",
    "    return classes, centroids, c\n"
   ]
  },
  {
   "cell_type": "code",
   "execution_count": 270,
   "metadata": {},
   "outputs": [],
   "source": [
    "results, centroid, diction = next_iter(first_class, centroid, 3)"
   ]
  },
  {
   "cell_type": "code",
   "execution_count": 271,
   "metadata": {},
   "outputs": [
    {
     "data": {
      "image/png": "[encoded data removed]",
      "text/plain": [
       "<Figure size 432x288 with 1 Axes>"
      ]
     },
     "metadata": {
      "needs_background": "light"
     },
     "output_type": "display_data"
    }
   ],
   "source": [
    "#Plotting the culster points\n",
    "for i in range(0,len(dataset)):\n",
    "    if(results[i] == 0):\n",
    "        plt.scatter(dataset[i][0],dataset[i][1],c = 'blue',s = 30,label='c1')\n",
    "    if(results[i] == 1):\n",
    "        plt.scatter(dataset[i][0],dataset[i][1],c = 'red',s = 30,label='c2')\n",
    "    if(results[i] == 2):\n",
    "        plt.scatter(dataset[i][0],dataset[i][1],c = 'green',s = 30,label='c3')\n",
    "    if(results[i] == 3):\n",
    "        plt.scatter(dataset[i][0],dataset[i][1],c = 'black',s = 30,label='c4')\n",
    "    if(results[i] == 4):\n",
    "        plt.scatter(dataset[i][0],dataset[i][1],c = 'yellow',s = 30,label='c5')\n",
    "\n",
    "#The pink points are the centroids\n",
    "for centr in centroid:\n",
    "    plt.scatter(centr[0], centr[1],c='magenta',s=150)\n",
    "\n",
    "plt.legend()\n",
    "plt.show()"
   ]
  },
  {
   "cell_type": "code",
   "execution_count": 263,
   "metadata": {},
   "outputs": [
    {
     "data": {
      "text/plain": [
       "[(15.0, 45.5), (47.529411764705884, 40.88235294117647)]"
      ]
     },
     "execution_count": 263,
     "metadata": {},
     "output_type": "execute_result"
    }
   ],
   "source": [
    "centroid"
   ]
  },
  {
   "cell_type": "code",
   "execution_count": null,
   "metadata": {},
   "outputs": [],
   "source": []
  },
  {
   "cell_type": "code",
   "execution_count": null,
   "metadata": {},
   "outputs": [],
   "source": []
  }
 ],
 "metadata": {
  "kernelspec": {
   "display_name": "Python 3",
   "language": "python",
   "name": "python3"
  },
  "language_info": {
   "codemirror_mode": {
    "name": "ipython",
    "version": 3
   },
   "file_extension": ".py",
   "mimetype": "text/x-python",
   "name": "python",
   "nbconvert_exporter": "python",
   "pygments_lexer": "ipython3",
   "version": "3.7.3"
  }
 },
 "nbformat": 4,
 "nbformat_minor": 2
}
